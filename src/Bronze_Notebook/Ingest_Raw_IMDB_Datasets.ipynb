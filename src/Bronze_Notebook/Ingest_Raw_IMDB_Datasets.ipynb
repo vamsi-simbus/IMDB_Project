{
 "cells": [
  {
   "cell_type": "code",
   "execution_count": 0,
   "metadata": {
    "application/vnd.databricks.v1+cell": {
     "cellMetadata": {},
     "inputWidgets": {},
     "nuid": "3823b839-a6c0-44f6-b0ea-6b02d54cbb7a",
     "showTitle": false,
     "tableResultSettingsMap": {},
     "title": ""
    }
   },
   "outputs": [],
   "source": [
    "# \"birthYear\"- Change Datatype String to Date # \"deathYear\"- Change Datatype String to Date\n",
    "# \"knownForTitles\"- Change Datatype String to Array of Strings\"\n",
    "from pyspark.sql.functions import col, split\n",
    "df = spark.table('imdb_project_schema.bronze_name_basics')\n",
    "new_df = df.withColumn(\"birthYear\", col(\"birthYear\").cast(\"date\")) \\\n",
    "           .withColumn(\"deathYear\", col(\"deathYear\").cast(\"date\")) \\\n",
    "           .withColumn(\"knownForTitles\", split(col(\"knownForTitles\"), \",\"))\n",
    "new_df.write.format(\"delta\").mode(\"overwrite\").option(\"overwriteSchema\", \"true\")\\\n",
    "    .saveAsTable(\"imdb_project_schema.bronze_name_basics\")"
   ]
  }
 ],
 "metadata": {
  "application/vnd.databricks.v1+notebook": {
   "computePreferences": null,
   "dashboards": [],
   "environmentMetadata": {
    "base_environment": "",
    "environment_version": "2"
   },
   "inputWidgetPreferences": null,
   "language": "python",
   "notebookMetadata": {
    "pythonIndentUnit": 4
   },
   "notebookName": "Ingest_Raw_IMDB_Datasets",
   "widgets": {}
  },
  "language_info": {
   "name": "python"
  }
 },
 "nbformat": 4,
 "nbformat_minor": 0
}
