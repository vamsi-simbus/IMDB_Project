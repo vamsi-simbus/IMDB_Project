{
 "cells": [
  {
   "cell_type": "markdown",
   "metadata": {
    "application/vnd.databricks.v1+cell": {
     "cellMetadata": {
      "byteLimit": 2048000,
      "rowLimit": 10000
     },
     "inputWidgets": {},
     "nuid": "90fe20ec-bbed-4eec-85c1-c0fb9ccd4acd",
     "showTitle": false,
     "tableResultSettingsMap": {},
     "title": ""
    }
   },
   "source": [
    "### Changing Column Data Types in bronze_name_basics Table\n"
   ]
  },
  {
   "cell_type": "code",
   "execution_count": 0,
   "metadata": {
    "application/vnd.databricks.v1+cell": {
     "cellMetadata": {},
     "inputWidgets": {},
     "nuid": "c3578920-539f-44d7-9897-cbebc2a3bffd",
     "showTitle": false,
     "tableResultSettingsMap": {},
     "title": ""
    }
   },
   "outputs": [],
   "source": [
    "# \"birthYear\"- Change Datatype String to Date\n",
    "# \"deathYear\"- Change Datatype String to Date\n",
    "# \"knownForTitles\"- Change Datatype String to Array of Strings\"\n",
    "from pyspark.sql.functions import col, split\n",
    "df = spark.table('imdb_project_schema.bronze_name_basics')\n",
    "new_df = df.withColumn(\"birthYear\", col(\"birthYear\").cast(\"date\")) \\\n",
    "           .withColumn(\"deathYear\", col(\"deathYear\").cast(\"date\")) \\\n",
    "           .withColumn(\"knownForTitles\", split(col(\"knownForTitles\"), \",\"))\n",
    "new_df.write.format(\"delta\").mode(\"overwrite\").option(\"overwriteSchema\", \"true\")\\\n",
    "    .saveAsTable(\"imdb_project_schema.bronze_name_basics\")"
   ]
  },
  {
   "cell_type": "code",
   "execution_count": 0,
   "metadata": {
    "application/vnd.databricks.v1+cell": {
     "cellMetadata": {
      "byteLimit": 2048000,
      "implicitDf": true,
      "rowLimit": 10000
     },
     "inputWidgets": {},
     "nuid": "86629967-3f44-485e-8859-4b07e07d3d77",
     "showTitle": false,
     "tableResultSettingsMap": {},
     "title": ""
    }
   },
   "outputs": [],
   "source": [
    "%sql\n",
    "select * from imdb_project_schema.bronze_name_basics;"
   ]
  },
  {
   "cell_type": "markdown",
   "metadata": {
    "application/vnd.databricks.v1+cell": {
     "cellMetadata": {},
     "inputWidgets": {},
     "nuid": "7bfdb962-e70d-4491-bc63-35b1165777c3",
     "showTitle": false,
     "tableResultSettingsMap": {},
     "title": ""
    }
   },
   "source": [
    "### Changing Column Data Types in bronze_title_basics Table"
   ]
  },
  {
   "cell_type": "code",
   "execution_count": 0,
   "metadata": {
    "application/vnd.databricks.v1+cell": {
     "cellMetadata": {},
     "inputWidgets": {},
     "nuid": "c5fa9e68-03bc-4894-bd15-dde89d041768",
     "showTitle": false,
     "tableResultSettingsMap": {},
     "title": ""
    }
   },
   "outputs": [],
   "source": [
    "# \"startYear\"- Change Datatype String to Date\n",
    "# \"endYear\"- Change Datatype String to Date\n",
    "# \"runtimeMinutes\"- Change Datatype String to Integer\n",
    "from pyspark.sql.functions import col\n",
    "df = spark.table('imdb_project_schema.bronze_title_basics')\n",
    "new_df = df.withColumn(\"startYear\", col(\"startYear\").cast(\"date\")) \\\n",
    "           .withColumn(\"endYear\", col(\"endYear\").cast(\"date\")) \\\n",
    "           .withColumn(\"runtimeMinutes\", col(\"runtimeMinutes\").cast(\"integer\"))     \n",
    "        \n",
    "new_df.write.format(\"delta\").mode(\"overwrite\").option(\"overwriteSchema\", \"true\")\\\n",
    "    .saveAsTable(\"imdb_project_schema.bronze_title_basics\")"
   ]
  },
  {
   "cell_type": "code",
   "execution_count": 0,
   "metadata": {
    "application/vnd.databricks.v1+cell": {
     "cellMetadata": {
      "byteLimit": 2048000,
      "implicitDf": true,
      "rowLimit": 10000
     },
     "inputWidgets": {},
     "nuid": "43d7929b-c174-4f2c-88a6-a0333f66e638",
     "showTitle": false,
     "tableResultSettingsMap": {},
     "title": ""
    }
   },
   "outputs": [],
   "source": [
    "%sql\n",
    "select * from imdb_project_schema.bronze_title_basics;"
   ]
  },
  {
   "cell_type": "markdown",
   "metadata": {
    "application/vnd.databricks.v1+cell": {
     "cellMetadata": {},
     "inputWidgets": {},
     "nuid": "cb6e9081-0908-42f1-85c6-877fd0736caa",
     "showTitle": false,
     "tableResultSettingsMap": {},
     "title": ""
    }
   },
   "source": [
    "### Changing Column Data Types in bronze_title_basics Table"
   ]
  },
  {
   "cell_type": "code",
   "execution_count": 0,
   "metadata": {
    "application/vnd.databricks.v1+cell": {
     "cellMetadata": {},
     "inputWidgets": {},
     "nuid": "a8ea7ba9-70d1-401d-8d1d-4ff236101ecd",
     "showTitle": false,
     "tableResultSettingsMap": {},
     "title": ""
    }
   },
   "outputs": [],
   "source": [
    "# \"seasonNumber\"- Change Datatype String to Integer\n",
    "# \"episodeNumber\"- Change Datatype String to Integer\n",
    "from pyspark.sql.functions import col\n",
    "df = spark.table('imdb_project_schema.bronze_title_episode')\n",
    "new_df = df.withColumn(\"seasonNumber\", col(\"seasonNumber\").cast(\"integer\")) \\\n",
    "           .withColumn(\"episodeNumber\", col(\"episodeNumber\").cast(\"integer\"))\n",
    "        \n",
    "new_df.write.format(\"delta\").mode(\"overwrite\").option(\"overwriteSchema\", \"true\")\\\n",
    "    .saveAsTable(\"imdb_project_schema.bronze_title_episode\")"
   ]
  },
  {
   "cell_type": "code",
   "execution_count": 0,
   "metadata": {
    "application/vnd.databricks.v1+cell": {
     "cellMetadata": {
      "byteLimit": 2048000,
      "implicitDf": true,
      "rowLimit": 10000
     },
     "inputWidgets": {},
     "nuid": "069d298d-9c3c-4408-a63f-252f93f229ef",
     "showTitle": false,
     "tableResultSettingsMap": {},
     "title": ""
    }
   },
   "outputs": [],
   "source": [
    "%sql\n",
    "select * from imdb_project_schema.bronze_title_episode;"
   ]
  }
 ],
 "metadata": {
  "application/vnd.databricks.v1+notebook": {
   "computePreferences": null,
   "dashboards": [],
   "environmentMetadata": {
    "base_environment": "",
    "environment_version": "2"
   },
   "inputWidgetPreferences": null,
   "language": "python",
   "notebookMetadata": {
    "mostRecentlyExecutedCommandWithImplicitDF": {
     "commandId": 8420985917000905,
     "dataframes": [
      "_sqldf"
     ]
    },
    "pythonIndentUnit": 4
   },
   "notebookName": "Ingest_Raw_IMDB_Datasets",
   "widgets": {}
  },
  "language_info": {
   "name": "python"
  }
 },
 "nbformat": 4,
 "nbformat_minor": 0
}
