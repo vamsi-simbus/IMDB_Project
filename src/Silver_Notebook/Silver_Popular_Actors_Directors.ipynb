{
 "cells": [
  {
   "cell_type": "code",
   "execution_count": 0,
   "metadata": {
    "application/vnd.databricks.v1+cell": {
     "cellMetadata": {
      "byteLimit": 2048000,
      "rowLimit": 10000
     },
     "inputWidgets": {},
     "nuid": "376c23dc-7a32-4b27-ad49-2049192b03c4",
     "showTitle": true,
     "tableResultSettingsMap": {},
     "title": "Filter only Movies"
    }
   },
   "outputs": [],
   "source": [
    "movies_df = spark.table(\"az_adb_simbus_training.imdb_project_schema.bronze_title_basics\")\n",
    "movies_df = (movies_df.select('tconst','titleType','primaryTitle').filter('titleType = \"movie\"')).na.drop(how='any')\n",
    "#display(movies_df)"
   ]
  },
  {
   "cell_type": "code",
   "execution_count": 0,
   "metadata": {
    "application/vnd.databricks.v1+cell": {
     "cellMetadata": {
      "byteLimit": 2048000,
      "rowLimit": 10000
     },
     "inputWidgets": {},
     "nuid": "21c9f436-5d24-4dc9-90c6-f179cd8bad9c",
     "showTitle": true,
     "tableResultSettingsMap": {},
     "title": "Filter movies if the person is either actor or director"
    }
   },
   "outputs": [],
   "source": [
    "actor_or_director_df = spark.table(\"az_adb_simbus_training.imdb_project_schema.bronze_title_principals\")\n",
    "actor_or_director_df = (actor_or_director_df.select('tconst','category').filter('category = \"actor\" or category = \"director\"')).na.drop(how='any')\n",
    "#display(actor_or_director_df)"
   ]
  },
  {
   "cell_type": "code",
   "execution_count": 0,
   "metadata": {
    "application/vnd.databricks.v1+cell": {
     "cellMetadata": {
      "byteLimit": 2048000,
      "rowLimit": 10000
     },
     "inputWidgets": {},
     "nuid": "bc4c4bf0-0e87-42ca-b106-3151b408fb5e",
     "showTitle": true,
     "tableResultSettingsMap": {},
     "title": "Join the two dataframes on tconst"
    }
   },
   "outputs": [],
   "source": [
    "join_df = movies_df.join(actor_or_director_df, movies_df.tconst == actor_or_director_df.tconst, how=\"inner\")\n",
    "join_df = join_df.drop(actor_or_director_df[\"tconst\"],'titleType')\n",
    "display(join_df)"
   ]
  },
  {
   "cell_type": "code",
   "execution_count": 0,
   "metadata": {
    "application/vnd.databricks.v1+cell": {
     "cellMetadata": {},
     "inputWidgets": {},
     "nuid": "2769680a-ff75-43df-836d-d94dd8beb7e4",
     "showTitle": true,
     "tableResultSettingsMap": {},
     "title": "join the joined_df with rating_df"
    }
   },
   "outputs": [],
   "source": []
  }
 ],
 "metadata": {
  "application/vnd.databricks.v1+notebook": {
   "computePreferences": null,
   "dashboards": [],
   "environmentMetadata": {
    "base_environment": "",
    "environment_version": "2"
   },
   "inputWidgetPreferences": null,
   "language": "python",
   "notebookMetadata": {
    "pythonIndentUnit": 4
   },
   "notebookName": "Silver_Popular_Actors_Directors",
   "widgets": {}
  },
  "language_info": {
   "name": "python"
  }
 },
 "nbformat": 4,
 "nbformat_minor": 0
}
