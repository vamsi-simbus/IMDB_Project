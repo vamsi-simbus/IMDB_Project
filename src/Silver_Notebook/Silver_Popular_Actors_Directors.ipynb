{
 "cells": [
  {
   "cell_type": "code",
   "execution_count": 0,
   "metadata": {
    "application/vnd.databricks.v1+cell": {
     "cellMetadata": {
      "byteLimit": 2048000,
      "rowLimit": 10000
     },
     "inputWidgets": {},
     "nuid": "376c23dc-7a32-4b27-ad49-2049192b03c4",
     "showTitle": true,
     "tableResultSettingsMap": {},
     "title": "Filter only Movies"
    }
   },
   "outputs": [],
   "source": [
    "movies_df = spark.table(\"az_adb_simbus_training.imdb_project_schema.bronze_title_basics\")\n",
    "movies_df = (movies_df.select('tconst','titleType','primaryTitle','startYear').filter('titleType = \"movie\"')).na.drop(how='any')\n",
    "#display(movies_df)\n"
   ]
  },
  {
   "cell_type": "code",
   "execution_count": 0,
   "metadata": {
    "application/vnd.databricks.v1+cell": {
     "cellMetadata": {
      "byteLimit": 2048000,
      "rowLimit": 10000
     },
     "inputWidgets": {},
     "nuid": "21c9f436-5d24-4dc9-90c6-f179cd8bad9c",
     "showTitle": true,
     "tableResultSettingsMap": {},
     "title": "Filter movies if the person is either actor or director"
    }
   },
   "outputs": [],
   "source": [
    "actor_or_director_df = spark.table(\"az_adb_simbus_training.imdb_project_schema.bronze_title_principals\")\n",
    "actor_or_director_df = (actor_or_director_df.select('tconst','category','nconst').filter('category = \"actor\" or category = \"director\"')).na.drop(how='any')\n",
    "#display(actor_or_director_df)"
   ]
  },
  {
   "cell_type": "code",
   "execution_count": 0,
   "metadata": {
    "application/vnd.databricks.v1+cell": {
     "cellMetadata": {
      "byteLimit": 2048000,
      "rowLimit": 10000
     },
     "inputWidgets": {},
     "nuid": "bc4c4bf0-0e87-42ca-b106-3151b408fb5e",
     "showTitle": true,
     "tableResultSettingsMap": {},
     "title": "Join the two dataframes on tconst"
    }
   },
   "outputs": [],
   "source": [
    "join_df = movies_df.join(actor_or_director_df, movies_df.tconst == actor_or_director_df.tconst, how=\"inner\")\n",
    "join_df = join_df.drop(actor_or_director_df[\"tconst\"],'titleType')\n",
    "#display(join_df)"
   ]
  },
  {
   "cell_type": "code",
   "execution_count": 0,
   "metadata": {
    "application/vnd.databricks.v1+cell": {
     "cellMetadata": {
      "byteLimit": 2048000,
      "rowLimit": 10000
     },
     "inputWidgets": {},
     "nuid": "d8bbf756-a0fb-4f8f-8dc6-845c570ff886",
     "showTitle": true,
     "tableResultSettingsMap": {},
     "title": "join to get the names of the actors or directors"
    }
   },
   "outputs": [],
   "source": [
    "from pyspark.sql.functions import to_date, col, lit\n",
    "\n",
    "names_act_direct = spark.table(\"az_adb_simbus_training.imdb_project_schema.bronze_name_basics\")\n",
    "\n",
    "#fetch data of people who are born in the 21st century\n",
    "names_act_direct = (names_act_direct.select('nconst','primaryName').\n",
    "filter(to_date(col(\"birthYear\"), 'yyyy-MM-dd') >= to_date(lit('2001-01-01'), 'yyyy-MM-dd'))).na.drop(how='any')\n",
    "#display(names_act_direct)"
   ]
  },
  {
   "cell_type": "code",
   "execution_count": 0,
   "metadata": {
    "application/vnd.databricks.v1+cell": {
     "cellMetadata": {
      "byteLimit": 2048000,
      "rowLimit": 10000
     },
     "inputWidgets": {},
     "nuid": "2769680a-ff75-43df-836d-d94dd8beb7e4",
     "showTitle": true,
     "tableResultSettingsMap": {},
     "title": "join the joined_df with rating_df"
    }
   },
   "outputs": [],
   "source": [
    "movie_rating_df = spark.table(\"az_adb_simbus_training.imdb_project_schema.bronze_title_ratings\")\n",
    "movie_rating_df = (movie_rating_df.select('tconst','averageRating','numVotes')).na.drop(how='any')\n",
    "#display(movie_rating_df)\n",
    "rating_join_df = join_df.join(movie_rating_df, movie_rating_df.tconst == join_df.tconst, how=\"inner\")\n",
    "rating_join_df=rating_join_df.drop('tconst')\n",
    "#display(rating_join_df)\n",
    "\n",
    "\n",
    "# final df created from joining the rating join with the names_act_direct dataframe\n",
    "final_df_with_names=names_act_direct.join(rating_join_df, names_act_direct.nconst == rating_join_df.nconst, how=\"inner\").drop(\"nconst\")\n",
    "#display(final_df_with_names)\n",
    "\n",
    "# changed the headers\n",
    "new_columns = [\"person_name\", \"movie_title\",'start_Year',\"role\",\"average_rating\",\"num_votes\"]\n",
    "final_df_with_names = final_df_with_names.toDF(*new_columns)\n",
    "display(final_df_with_names)\n"
   ]
  },
  {
   "cell_type": "code",
   "execution_count": 0,
   "metadata": {
    "application/vnd.databricks.v1+cell": {
     "cellMetadata": {
      "byteLimit": 2048000,
      "rowLimit": 10000
     },
     "inputWidgets": {},
     "nuid": "f4dc07d6-9c64-40f8-8daa-56f26be544c0",
     "showTitle": true,
     "tableResultSettingsMap": {},
     "title": "save as Silver Table"
    }
   },
   "outputs": [],
   "source": [
    "#final_df_with_names=final_df_with_names.drop(\"region\")\n",
    "\n",
    "\n",
    "final_df_with_names.write.format(\"delta\").mode(\"overwrite\").saveAsTable(\"az_adb_simbus_training.imdb_project_schema.silver_popular_actor_directors\")"
   ]
  }
 ],
 "metadata": {
  "application/vnd.databricks.v1+notebook": {
   "computePreferences": null,
   "dashboards": [],
   "environmentMetadata": {
    "base_environment": "",
    "environment_version": "2"
   },
   "inputWidgetPreferences": null,
   "language": "python",
   "notebookMetadata": {
    "mostRecentlyExecutedCommandWithImplicitDF": {
     "commandId": 8182667184451399,
     "dataframes": [
      "_sqldf"
     ]
    },
    "pythonIndentUnit": 4
   },
   "notebookName": "Silver_Popular_Actors_Directors",
   "widgets": {}
  },
  "kernelspec": {
   "display_name": "Python 3",
   "language": "python",
   "name": "python3"
  },
  "language_info": {
   "name": "python"
  }
 },
 "nbformat": 4,
 "nbformat_minor": 0
}
