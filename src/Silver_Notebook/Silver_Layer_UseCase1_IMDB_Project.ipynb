{
 "cells": [
  {
   "cell_type": "code",
   "execution_count": 0,
   "metadata": {
    "application/vnd.databricks.v1+cell": {
     "cellMetadata": {
      "byteLimit": 2048000,
      "implicitDf": true,
      "rowLimit": 10000
     },
     "inputWidgets": {},
     "nuid": "ec95b1d7-8342-49ec-94d5-fcb4ad24b8fb",
     "showTitle": false,
     "tableResultSettingsMap": {},
     "title": ""
    }
   },
   "outputs": [],
   "source": [
    "# Creating the Title_df DataFrame from the bronze_title_ratings table\n",
    "# removing null values from the table\n",
    "title_df = spark.table('az_adb_simbus_training.imdb_project_schema.bronze_title_ratings').dropna(how='any')\n",
    "# title_df.limit(5).display()"
   ]
  },
  {
   "cell_type": "code",
   "execution_count": 0,
   "metadata": {
    "application/vnd.databricks.v1+cell": {
     "cellMetadata": {
      "byteLimit": 2048000,
      "implicitDf": true,
      "rowLimit": 10000
     },
     "inputWidgets": {},
     "nuid": "176a4709-8530-4dde-ae36-fd9d960aea2a",
     "showTitle": false,
     "tableResultSettingsMap": {},
     "title": ""
    }
   },
   "outputs": [],
   "source": [
    "# Creating the basics_df DataFrame from the bronze_title_basics tables \n",
    "# selected only the columns required for the use case and removing null values from the selected columns\n",
    "# selected the year from the startYear column and renamed it to Year\n",
    "from pyspark.sql.functions import year, col\n",
    "basics_df = spark.table('az_adb_simbus_training.imdb_project_schema.bronze_title_basics')\n",
    "basics_df = basics_df.select('tconst','startYear','genres','titleType').dropna(how='any')\n",
    "basics_df = basics_df.withColumn('startYear', year(col('startYear'))) \\\n",
    "                     .withColumnRenamed('startYear','Year')\n",
    "# basics_df.limit(5).display()"
   ]
  },
  {
   "cell_type": "code",
   "execution_count": 0,
   "metadata": {
    "application/vnd.databricks.v1+cell": {
     "cellMetadata": {
      "byteLimit": 2048000,
      "rowLimit": 10000
     },
     "inputWidgets": {},
     "nuid": "4875089d-52ee-4991-93af-5458c4c3c5cb",
     "showTitle": false,
     "tableResultSettingsMap": {},
     "title": ""
    }
   },
   "outputs": [],
   "source": [
    "# Performing an inner join between the title_df and title_ratings tables.\n",
    "joined_df = title_df.join(basics_df,title_df.tconst == basics_df.tconst, \"inner\")\n",
    "# joined_df.limit(5).display()"
   ]
  },
  {
   "cell_type": "code",
   "execution_count": 0,
   "metadata": {
    "application/vnd.databricks.v1+cell": {
     "cellMetadata": {
      "byteLimit": 2048000,
      "rowLimit": 10000
     },
     "inputWidgets": {},
     "nuid": "1404e5a2-8d84-4963-8b6b-9772f4292b31",
     "showTitle": false,
     "tableResultSettingsMap": {},
     "title": ""
    }
   },
   "outputs": [],
   "source": [
    "#Checking the distinct values of the titleType column\n",
    "joined_df.select('titleType').distinct().show()"
   ]
  },
  {
   "cell_type": "code",
   "execution_count": 0,
   "metadata": {
    "application/vnd.databricks.v1+cell": {
     "cellMetadata": {
      "byteLimit": 2048000,
      "rowLimit": 10000
     },
     "inputWidgets": {},
     "nuid": "6ef25143-dbd9-48b3-b5a0-87f57813542b",
     "showTitle": false,
     "tableResultSettingsMap": {},
     "title": ""
    }
   },
   "outputs": [],
   "source": [
    "# Filter out only movies (titleType == 'movie'). \n",
    "# Extract year, genres, average_Rating, num_Votes. \n",
    "from pyspark.sql.functions import col \n",
    "selected_df = (joined_df.filter(col('titleType') == 'movie')               \n",
    "                .select('Year','genres','averageRating', 'numVotes', 'titleType'))\n",
    "selected_df = selected_df.dropna(how='any')                \n",
    "# selected_df.limit(10).display()                           "
   ]
  },
  {
   "cell_type": "code",
   "execution_count": 0,
   "metadata": {
    "application/vnd.databricks.v1+cell": {
     "cellMetadata": {
      "byteLimit": 2048000,
      "rowLimit": 10000
     },
     "inputWidgets": {},
     "nuid": "fbaabfae-3d80-4ec6-95e7-ec4acb3a0f01",
     "showTitle": false,
     "tableResultSettingsMap": {},
     "title": ""
    }
   },
   "outputs": [],
   "source": [
    "# Filter out year is greater than 2000\n",
    "# From genres column, extract only the first genre\n",
    "from pyspark.sql.functions import split\n",
    "Filtered_df = selected_df.filter(col('Year') >= 2000)\n",
    "Filtered_df = Filtered_df.withColumn('genres', split(col('genres'),',')[0])\n",
    "# Filtered_df.limit(5).display()\n"
   ]
  },
  {
   "cell_type": "code",
   "execution_count": 0,
   "metadata": {
    "application/vnd.databricks.v1+cell": {
     "cellMetadata": {
      "byteLimit": 2048000,
      "rowLimit": 10000
     },
     "inputWidgets": {},
     "nuid": "56b00da6-1032-4b29-9f6a-ff4603839a79",
     "showTitle": false,
     "tableResultSettingsMap": {},
     "title": ""
    }
   },
   "outputs": [],
   "source": [
    "# Created the silver_UseCase1_table table in the imdb_project_schema schema from the above filtration.\n",
    "Filtered_df.write.mode('overwrite').option('mergeSchema', 'true').saveAsTable('az_adb_simbus_training.imdb_project_schema.silver_UseCase1_table')\n"
   ]
  },
  {
   "cell_type": "code",
   "execution_count": 0,
   "metadata": {
    "application/vnd.databricks.v1+cell": {
     "cellMetadata": {
      "byteLimit": 2048000,
      "implicitDf": true,
      "rowLimit": 10000
     },
     "inputWidgets": {},
     "nuid": "1f692cc3-8036-46c8-b20c-34948ee92e94",
     "showTitle": false,
     "tableResultSettingsMap": {},
     "title": ""
    }
   },
   "outputs": [],
   "source": [
    "%sql\n",
    "select * from az_adb_simbus_training.imdb_project_schema.silver_usecase1_table limit 5;\n"
   ]
  }
 ],
 "metadata": {
  "application/vnd.databricks.v1+notebook": {
   "computePreferences": null,
   "dashboards": [],
   "environmentMetadata": {
    "base_environment": "",
    "environment_version": "2"
   },
   "inputWidgetPreferences": null,
   "language": "python",
   "notebookMetadata": {
    "mostRecentlyExecutedCommandWithImplicitDF": {
     "commandId": 7575643231197406,
     "dataframes": [
      "_sqldf"
     ]
    },
    "pythonIndentUnit": 4
   },
   "notebookName": "Silver_Layer_UseCase1_IMDB_Project",
   "widgets": {}
  },
  "language_info": {
   "name": "python"
  }
 },
 "nbformat": 4,
 "nbformat_minor": 0
}
