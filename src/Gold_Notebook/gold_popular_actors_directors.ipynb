{
 "cells": [
  {
   "cell_type": "code",
   "execution_count": 0,
   "metadata": {
    "application/vnd.databricks.v1+cell": {
     "cellMetadata": {
      "byteLimit": 2048000,
      "rowLimit": 10000
     },
     "inputWidgets": {},
     "nuid": "b2578115-1c81-41c7-b091-23484e4b3dec",
     "showTitle": true,
     "tableResultSettingsMap": {},
     "title": "Read the Silver table"
    }
   },
   "outputs": [],
   "source": [
    "silver_layer_df = spark.table('az_adb_simbus_training.imdb_project_schema.silver_popular_actor_directors')\n",
    "\n",
    "\n",
    "#display(silver_layer_df)"
   ]
  },
  {
   "cell_type": "code",
   "execution_count": 0,
   "metadata": {
    "application/vnd.databricks.v1+cell": {
     "cellMetadata": {
      "byteLimit": 2048000,
      "rowLimit": 10000
     },
     "inputWidgets": {},
     "nuid": "d549f396-70c2-4f7e-b3ea-7847a0399836",
     "showTitle": true,
     "tableResultSettingsMap": {},
     "title": "Sum of all the movies from a person"
    }
   },
   "outputs": [],
   "source": [
    "from pyspark.sql.functions import col, avg, sum as sum_,round,count\n",
    "from pyspark.sql import functions as F\n",
    "\n",
    "gold_sum_movies_df = silver_layer_df.groupBy(\"person_name\")\\\n",
    "    .agg(\n",
    "        count(\"movie_title\").alias(\"movie_count\")\n",
    "    )\n",
    "\n",
    "#filtering out the person who has a count more than 10 movies\n",
    "filtered_gold_sum_movies_df = gold_sum_movies_df.filter(col(\"movie_count\") > 10)\n",
    "silver_layer_df = silver_layer_df.join(filtered_gold_sum_movies_df,silver_layer_df.person_name == filtered_gold_sum_movies_df.person_name, how=\"inner\")\n",
    "\n",
    "silver_layer_df=silver_layer_df.drop(filtered_gold_sum_movies_df[\"person_name\"])\n",
    "#display(silver_layer_df)\n",
    "\n"
   ]
  },
  {
   "cell_type": "code",
   "execution_count": 0,
   "metadata": {
    "application/vnd.databricks.v1+cell": {
     "cellMetadata": {
      "byteLimit": 2048000,
      "rowLimit": 10000
     },
     "inputWidgets": {},
     "nuid": "8098cff7-7168-4a54-824f-177afdd06679",
     "showTitle": true,
     "tableResultSettingsMap": {},
     "title": "Aggregrate the Average rating on movies"
    }
   },
   "outputs": [],
   "source": [
    "\n",
    "gold_avgrate_df = silver_layer_df.groupBy(silver_layer_df['person_name'])\\\n",
    "    .agg(\n",
    "        round(avg(\"average_rating\"), 2).alias(\"average_rating\"),\n",
    "        F.count(\"*\").alias(\"movie_count\"),\n",
    "        F.first(\"role\").alias(\"role\")\n",
    "       )\n",
    "\n",
    "#display(gold_avgrate_df)"
   ]
  },
  {
   "cell_type": "code",
   "execution_count": 0,
   "metadata": {
    "application/vnd.databricks.v1+cell": {
     "cellMetadata": {
      "byteLimit": 2048000,
      "rowLimit": 10000
     },
     "inputWidgets": {},
     "nuid": "b3f7cdd6-5a6f-4e66-ae27-8420b46a22cb",
     "showTitle": true,
     "tableResultSettingsMap": {},
     "title": "Aggregate the total votes across their movies"
    }
   },
   "outputs": [],
   "source": [
    "gold_totalvotes_df = silver_layer_df.groupBy(\"person_name\")\\\n",
    "    .agg(\n",
    "        sum_(\"num_votes\").alias(\"total_votes\")\n",
    "       )\n",
    "\n",
    "#display(gold_totalvotes_df)"
   ]
  },
  {
   "cell_type": "code",
   "execution_count": 0,
   "metadata": {
    "application/vnd.databricks.v1+cell": {
     "cellMetadata": {
      "byteLimit": 2048000,
      "rowLimit": 10000
     },
     "inputWidgets": {},
     "nuid": "b8c6c802-434b-48c2-8ea5-11cca7834ff6",
     "showTitle": false,
     "tableResultSettingsMap": {},
     "title": ""
    }
   },
   "outputs": [],
   "source": [
    "final_gold_layer_table=gold_totalvotes_df.join(gold_avgrate_df,gold_totalvotes_df.person_name == gold_avgrate_df.person_name, how=\"inner\").drop(gold_avgrate_df[\"person_name\"])\n",
    "\n",
    "display(final_gold_layer_table)\n",
    "\n",
    "final_gold_layer_table.write.format(\"delta\").mode(\"overwrite\").saveAsTable(\"az_adb_simbus_training.imdb_project_schema.golden_popular_actors_directors\")\n"
   ]
  }
 ],
 "metadata": {
  "application/vnd.databricks.v1+notebook": {
   "computePreferences": null,
   "dashboards": [],
   "environmentMetadata": {
    "base_environment": "",
    "environment_version": "2"
   },
   "inputWidgetPreferences": null,
   "language": "python",
   "notebookMetadata": {
    "pythonIndentUnit": 4
   },
   "notebookName": "gold_popular_actors_directors",
   "widgets": {}
  },
  "language_info": {
   "name": "python"
  }
 },
 "nbformat": 4,
 "nbformat_minor": 0
}
