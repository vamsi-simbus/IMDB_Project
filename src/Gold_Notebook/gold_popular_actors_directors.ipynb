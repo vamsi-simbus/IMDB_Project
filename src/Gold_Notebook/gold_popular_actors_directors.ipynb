{
 "cells": [
  {
   "cell_type": "code",
   "execution_count": 0,
   "metadata": {
    "application/vnd.databricks.v1+cell": {
     "cellMetadata": {
      "byteLimit": 2048000,
      "rowLimit": 10000
     },
     "inputWidgets": {},
     "nuid": "b2578115-1c81-41c7-b091-23484e4b3dec",
     "showTitle": true,
     "tableResultSettingsMap": {},
     "title": "Read the Silver table"
    }
   },
   "outputs": [],
   "source": [
    "silver_layer_df = spark.table('az_adb_simbus_training.imdb_project_schema.silver_popular_actor_directors')\n",
    "\n",
    "#display(silver_layer_df)"
   ]
  },
  {
   "cell_type": "code",
   "execution_count": 0,
   "metadata": {
    "application/vnd.databricks.v1+cell": {
     "cellMetadata": {
      "byteLimit": 2048000,
      "rowLimit": 10000
     },
     "inputWidgets": {},
     "nuid": "d549f396-70c2-4f7e-b3ea-7847a0399836",
     "showTitle": true,
     "tableResultSettingsMap": {},
     "title": "Sum of all the movies from a person"
    }
   },
   "outputs": [],
   "source": [
    "from pyspark.sql.functions import col, avg, sum as sum_,round,count\n",
    "from pyspark.sql import functions as F\n",
    "\n",
    "gold_aggregate_actors_movies_df = silver_layer_df.filter('role == \"actor\"').groupBy(\"person_name\")\\\n",
    "    .agg(\n",
    "        count(\"movie_title\").alias(\"movie_count\"),\n",
    "        round(avg(\"average_rating\"), 2).alias(\"average_rating\"),\n",
    "        sum_(\"num_votes\").alias(\"total_votes\"),\n",
    "        F.first(\"role\").alias(\"role\")\n",
    "    )\n",
    "\n",
    "gold_aggregate_directors_movies_df = silver_layer_df.filter('role == \"director\"').groupBy(\"person_name\")\\\n",
    "    .agg(\n",
    "        count(\"movie_title\").alias(\"movie_count\"),\n",
    "        round(avg(\"average_rating\"), 2).alias(\"average_rating\"),\n",
    "        sum_(\"num_votes\").alias(\"total_votes\"),\n",
    "        F.first(\"role\").alias(\"role\")\n",
    "    )\n",
    "\n",
    "#filtering out the person who has a count more than 10 movies\n",
    "filtered_gold_actors_movies_df = gold_aggregate_actors_movies_df.filter(col(\"movie_count\") > 10)\n",
    "\n",
    "filtered_gold_directors_movies_df = gold_aggregate_directors_movies_df.filter(col(\"movie_count\") > 10)\n",
    "\n",
    "#display(filtered_gold_actors_movies_df)\n",
    "#display(filtered_gold_directors_movies_df)\n",
    "\n",
    "\n"
   ]
  },
  {
   "cell_type": "code",
   "execution_count": 0,
   "metadata": {
    "application/vnd.databricks.v1+cell": {
     "cellMetadata": {
      "byteLimit": 2048000,
      "rowLimit": 10000
     },
     "inputWidgets": {},
     "nuid": "b8c6c802-434b-48c2-8ea5-11cca7834ff6",
     "showTitle": false,
     "tableResultSettingsMap": {},
     "title": ""
    }
   },
   "outputs": [],
   "source": [
    "filtered_gold_actors_movies_df.write.format(\"delta\").mode(\"overwrite\").saveAsTable(\"az_adb_simbus_training.imdb_project_schema.golden_popular_actors\")\n",
    "\n",
    "filtered_gold_directors_movies_df.write.format(\"delta\").mode(\"overwrite\").saveAsTable(\"az_adb_simbus_training.imdb_project_schema.golden_popular_directors\")\n"
   ]
  },
  {
   "cell_type": "code",
   "execution_count": 0,
   "metadata": {
    "application/vnd.databricks.v1+cell": {
     "cellMetadata": {
      "byteLimit": 2048000,
      "rowLimit": 10000
     },
     "inputWidgets": {},
     "nuid": "48d370a4-8a8f-420f-b285-8b28a843c34c",
     "showTitle": true,
     "tableResultSettingsMap": {},
     "title": "Adding year and movies aggregation"
    }
   },
   "outputs": [],
   "source": [
    "# from pyspark.sql.functions import col, avg, sum as sum_,round,count\n",
    "gold_aggregate_year_movies_df = (silver_layer_df.groupBy(\"person_name\",\"start_year\",\"role\")\n",
    "    .agg(\n",
    "        count(\"movie_title\").alias(\"movies_in_year\"),\n",
    "    ).select('role','start_year','person_name','movies_in_year'))\n",
    "\n",
    "# display(gold_aggregate_year_movies_df.limit(100))    "
   ]
  },
  {
   "cell_type": "code",
   "execution_count": 0,
   "metadata": {
    "application/vnd.databricks.v1+cell": {
     "cellMetadata": {
      "byteLimit": 2048000,
      "rowLimit": 10000
     },
     "inputWidgets": {},
     "nuid": "cffafc50-94c2-4c80-84dd-99d1c4c27020",
     "showTitle": true,
     "tableResultSettingsMap": {},
     "title": "creating a delta table"
    }
   },
   "outputs": [],
   "source": [
    "gold_aggregate_year_movies_df.write.format(\"delta\").mode(\"overwrite\").saveAsTable(\"az_adb_simbus_training.imdb_project_schema.gold_movies_per_year\")"
   ]
  }
 ],
 "metadata": {
  "application/vnd.databricks.v1+notebook": {
   "computePreferences": null,
   "dashboards": [],
   "environmentMetadata": {
    "base_environment": "",
    "environment_version": "2"
   },
   "inputWidgetPreferences": null,
   "language": "python",
   "notebookMetadata": {
    "pythonIndentUnit": 4
   },
   "notebookName": "gold_popular_actors_directors",
   "widgets": {}
  },
  "language_info": {
   "name": "python"
  }
 },
 "nbformat": 4,
 "nbformat_minor": 0
}
