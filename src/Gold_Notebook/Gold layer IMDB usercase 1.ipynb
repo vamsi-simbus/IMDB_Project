{
 "cells": [
  {
   "cell_type": "code",
   "execution_count": 0,
   "metadata": {
    "application/vnd.databricks.v1+cell": {
     "cellMetadata": {
      "byteLimit": 2048000,
      "rowLimit": 10000
     },
     "inputWidgets": {},
     "nuid": "f8babf7b-8785-40a9-9022-3437be84053a",
     "showTitle": false,
     "tableResultSettingsMap": {},
     "title": ""
    }
   },
   "outputs": [],
   "source": [
    "# Creating the Title_df DataFrame from the silver layer table\n",
    "silver_df = spark.table('az_adb_simbus_training.imdb_project_schema.silver_usecase1_table')\n",
    "# silver_df.limit(5).display()"
   ]
  },
  {
   "cell_type": "code",
   "execution_count": 0,
   "metadata": {
    "application/vnd.databricks.v1+cell": {
     "cellMetadata": {
      "byteLimit": 2048000,
      "rowLimit": 10000
     },
     "inputWidgets": {},
     "nuid": "fa079f31-dd87-4fef-9ceb-1c89ed97ec60",
     "showTitle": false,
     "tableResultSettingsMap": {},
     "title": ""
    }
   },
   "outputs": [],
   "source": [
    "from pyspark.sql.functions import col, avg, sum as sum_, year, to_date\n",
    "\n",
    "\n",
    "#preprocessing removing any null value\n",
    "silver_df_clean = silver_df.filter((col(\"genres\").isNotNull()) & (col(\"genres\") != \"\\\\N\"))\n",
    "# silver_df_clean.limit(5).display()\n"
   ]
  },
  {
   "cell_type": "code",
   "execution_count": 0,
   "metadata": {
    "application/vnd.databricks.v1+cell": {
     "cellMetadata": {
      "byteLimit": 2048000,
      "rowLimit": 10000
     },
     "inputWidgets": {},
     "nuid": "279f2a4a-f7c4-4b7e-be7c-14113987c517",
     "showTitle": false,
     "tableResultSettingsMap": {},
     "title": ""
    }
   },
   "outputs": [],
   "source": [
    "# Aggregate average rating and total votes per genre per year\n",
    "# Selected only two decimal from the averageRating\n",
    "from pyspark.sql.functions import round\n",
    "gold_df = silver_df_clean.groupBy(\"genres\", \"Year\")\\\n",
    "    .agg(\n",
    "        avg(\"averageRating\").alias(\"avg_rating\"),\n",
    "        sum_(\"numVotes\").alias(\"total_votes\")\n",
    "    )\n",
    "\n",
    "gold_df = gold_df.withColumn(\"avg_rating\", round(col(\"avg_rating\"), 2))\n",
    "# gold_df.limit(5).display()"
   ]
  },
  {
   "cell_type": "code",
   "execution_count": 0,
   "metadata": {
    "application/vnd.databricks.v1+cell": {
     "cellMetadata": {
      "byteLimit": 2048000,
      "rowLimit": 10000
     },
     "inputWidgets": {},
     "nuid": "0259702c-a5f4-49cf-a6a0-7f7c0930557e",
     "showTitle": false,
     "tableResultSettingsMap": {},
     "title": ""
    }
   },
   "outputs": [],
   "source": [
    "%python\n",
    "gold_df.write.mode(\"overwrite\").option('mergeSchema', True).saveAsTable(\"imdb_project_schema.gold_layer_usecase1\")"
   ]
  },
  {
   "cell_type": "code",
   "execution_count": 0,
   "metadata": {
    "application/vnd.databricks.v1+cell": {
     "cellMetadata": {
      "byteLimit": 2048000,
      "implicitDf": true,
      "rowLimit": 10000
     },
     "inputWidgets": {},
     "nuid": "09039e77-5392-40c6-a0fa-bf5b576854a7",
     "showTitle": false,
     "tableResultSettingsMap": {},
     "title": ""
    }
   },
   "outputs": [],
   "source": [
    "%sql\n",
    "select * from imdb_project_schema.gold_layer_usecase1 limit 5 ;"
   ]
  }
 ],
 "metadata": {
  "application/vnd.databricks.v1+notebook": {
   "computePreferences": null,
   "dashboards": [],
   "environmentMetadata": {
    "base_environment": "",
    "environment_version": "2"
   },
   "inputWidgetPreferences": null,
   "language": "python",
   "notebookMetadata": {
    "mostRecentlyExecutedCommandWithImplicitDF": {
     "commandId": 4746386614372470,
     "dataframes": [
      "_sqldf"
     ]
    },
    "pythonIndentUnit": 4
   },
   "notebookName": "Gold layer IMDB usercase 1",
   "widgets": {}
  },
  "language_info": {
   "name": "python"
  }
 },
 "nbformat": 4,
 "nbformat_minor": 0
}
